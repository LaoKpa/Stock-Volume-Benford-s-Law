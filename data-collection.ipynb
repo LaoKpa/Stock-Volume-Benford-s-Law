{
 "cells": [
  {
   "cell_type": "code",
   "execution_count": 1,
   "metadata": {},
   "outputs": [],
   "source": [
    "# Import Libraries\n",
    "import requests\n",
    "import pandas as pd\n",
    "import numpy as np\n",
    "import matplotlib.pyplot as plt\n",
    "import time"
   ]
  },
  {
   "cell_type": "code",
   "execution_count": 2,
   "metadata": {},
   "outputs": [],
   "source": [
    "# URL and API key\n",
    "base_url = \"https://www.alphavantage.co/query\"\n",
    "key = # Place API key here"
   ]
  },
  {
   "cell_type": "code",
   "execution_count": 8,
   "metadata": {},
   "outputs": [],
   "source": [
    "# requesting time series data\n",
    "res = requests.get(\n",
    "base_url,\n",
    "params = {\n",
    "    'function': 'time_series_daily',\n",
    "    'symbol': \"GE\",\n",
    "    'apikey': key\n",
    "}\n",
    ")\n",
    "data = res.json()\n",
    "GE = pd.DataFrame(data['Time Series (Daily)']).T"
   ]
  },
  {
   "cell_type": "code",
   "execution_count": 10,
   "metadata": {},
   "outputs": [],
   "source": [
    "# Setting the index as a date column for future use\n",
    "DIA['date'] = DIA.index\n",
    "SPY['date'] = SPY.index\n",
    "AAPL['date'] = AAPL.index\n",
    "MMM['date'] = MMM.index\n",
    "TSLA['date'] = TSLA.index\n",
    "GE['date'] = GE.index"
   ]
  },
  {
   "cell_type": "code",
   "execution_count": 12,
   "metadata": {},
   "outputs": [],
   "source": [
    "# Save to CSV (THESE CSVs ARE NOT INCLUDED)\n",
    "DIA.to_csv(\"./CSVs/DIA_04142020\", index = False)\n",
    "SPY.to_csv(\"./CSVs/SPY_04142020\", index = False)\n",
    "AAPL.to_csv(\"./CSVs/AAPL_04142020\", index = False)\n",
    "MMM.to_csv(\"./CSVs/MMM_04142020\", index = False)\n",
    "TSLA.to_csv(\"./CSVs/TSLA_04142020\", index = False)\n",
    "GE.to_csv(\"./CSVs/GE_04142020\", index = False)"
   ]
  }
 ],
 "metadata": {
  "kernelspec": {
   "display_name": "Python 3",
   "language": "python",
   "name": "python3"
  },
  "language_info": {
   "codemirror_mode": {
    "name": "ipython",
    "version": 3
   },
   "file_extension": ".py",
   "mimetype": "text/x-python",
   "name": "python",
   "nbconvert_exporter": "python",
   "pygments_lexer": "ipython3",
   "version": "3.7.4"
  }
 },
 "nbformat": 4,
 "nbformat_minor": 2
}
