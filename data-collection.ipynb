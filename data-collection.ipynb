{
 "cells": [
  {
   "cell_type": "code",
   "execution_count": 1,
   "metadata": {},
   "outputs": [],
   "source": [
    "# Import Libraries\n",
    "import requests\n",
    "import pandas as pd\n",
    "import numpy as np\n",
    "import matplotlib.pyplot as plt\n",
    "import time"
   ]
  },
  {
   "cell_type": "code",
   "execution_count": 2,
   "metadata": {},
   "outputs": [],
   "source": [
    "# URL and API key\n",
    "base_url = \"https://www.alphavantage.co/query\"\n",
    "key = # ENTER KEY HERE"
   ]
  },
  {
   "cell_type": "code",
   "execution_count": 3,
   "metadata": {},
   "outputs": [],
   "source": [
    "# requesting time series data\n",
    "res = requests.get(\n",
    "base_url,\n",
    "params = {\n",
    "    'function': 'time_series_daily',\n",
    "    'symbol': \"TSLA\",\n",
    "    'apikey': key\n",
    "}\n",
    ")\n",
    "data = res.json()\n",
    "TSLA = pd.DataFrame(data['Time Series (Daily)']).T"
   ]
  },
  {
   "cell_type": "code",
   "execution_count": 4,
   "metadata": {
    "scrolled": false
   },
   "outputs": [
    {
     "data": {
      "text/html": [
       "<div>\n",
       "<style scoped>\n",
       "    .dataframe tbody tr th:only-of-type {\n",
       "        vertical-align: middle;\n",
       "    }\n",
       "\n",
       "    .dataframe tbody tr th {\n",
       "        vertical-align: top;\n",
       "    }\n",
       "\n",
       "    .dataframe thead th {\n",
       "        text-align: right;\n",
       "    }\n",
       "</style>\n",
       "<table border=\"1\" class=\"dataframe\">\n",
       "  <thead>\n",
       "    <tr style=\"text-align: right;\">\n",
       "      <th></th>\n",
       "      <th>1. open</th>\n",
       "      <th>2. high</th>\n",
       "      <th>3. low</th>\n",
       "      <th>4. close</th>\n",
       "      <th>5. volume</th>\n",
       "    </tr>\n",
       "  </thead>\n",
       "  <tbody>\n",
       "    <tr>\n",
       "      <th>2020-03-18</th>\n",
       "      <td>389.0000</td>\n",
       "      <td>404.8600</td>\n",
       "      <td>378.2400</td>\n",
       "      <td>387.3200</td>\n",
       "      <td>10014454</td>\n",
       "    </tr>\n",
       "    <tr>\n",
       "      <th>2020-03-17</th>\n",
       "      <td>440.0100</td>\n",
       "      <td>471.8500</td>\n",
       "      <td>396.0000</td>\n",
       "      <td>430.2000</td>\n",
       "      <td>23822559</td>\n",
       "    </tr>\n",
       "    <tr>\n",
       "      <th>2020-03-16</th>\n",
       "      <td>469.4997</td>\n",
       "      <td>494.8699</td>\n",
       "      <td>442.1700</td>\n",
       "      <td>445.0700</td>\n",
       "      <td>20489464</td>\n",
       "    </tr>\n",
       "    <tr>\n",
       "      <th>2020-03-13</th>\n",
       "      <td>595.0000</td>\n",
       "      <td>607.5700</td>\n",
       "      <td>502.0000</td>\n",
       "      <td>546.6200</td>\n",
       "      <td>22640254</td>\n",
       "    </tr>\n",
       "    <tr>\n",
       "      <th>2020-03-12</th>\n",
       "      <td>580.8900</td>\n",
       "      <td>594.5000</td>\n",
       "      <td>546.2500</td>\n",
       "      <td>560.5500</td>\n",
       "      <td>18909052</td>\n",
       "    </tr>\n",
       "  </tbody>\n",
       "</table>\n",
       "</div>"
      ],
      "text/plain": [
       "             1. open   2. high    3. low  4. close 5. volume\n",
       "2020-03-18  389.0000  404.8600  378.2400  387.3200  10014454\n",
       "2020-03-17  440.0100  471.8500  396.0000  430.2000  23822559\n",
       "2020-03-16  469.4997  494.8699  442.1700  445.0700  20489464\n",
       "2020-03-13  595.0000  607.5700  502.0000  546.6200  22640254\n",
       "2020-03-12  580.8900  594.5000  546.2500  560.5500  18909052"
      ]
     },
     "execution_count": 4,
     "metadata": {},
     "output_type": "execute_result"
    }
   ],
   "source": [
    "TSLA.head()"
   ]
  },
  {
   "cell_type": "code",
   "execution_count": 9,
   "metadata": {},
   "outputs": [],
   "source": [
    "TSLA['date'] = TSLA.index"
   ]
  },
  {
   "cell_type": "code",
   "execution_count": 10,
   "metadata": {},
   "outputs": [],
   "source": [
    "TSLA.to_csv(\"./CSVs/TSLA_03182020\", index = False)"
   ]
  },
  {
   "cell_type": "code",
   "execution_count": null,
   "metadata": {},
   "outputs": [],
   "source": []
  }
 ],
 "metadata": {
  "kernelspec": {
   "display_name": "Python 3",
   "language": "python",
   "name": "python3"
  },
  "language_info": {
   "codemirror_mode": {
    "name": "ipython",
    "version": 3
   },
   "file_extension": ".py",
   "mimetype": "text/x-python",
   "name": "python",
   "nbconvert_exporter": "python",
   "pygments_lexer": "ipython3",
   "version": "3.7.4"
  }
 },
 "nbformat": 4,
 "nbformat_minor": 2
}
