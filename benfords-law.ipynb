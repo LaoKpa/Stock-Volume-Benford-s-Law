{
 "cells": [
  {
   "cell_type": "code",
   "execution_count": 2,
   "metadata": {},
   "outputs": [],
   "source": [
    "import matplotlib.pyplot as plt\n",
    "import pandas as pd\n",
    "import numpy as np"
   ]
  },
  {
   "cell_type": "code",
   "execution_count": 13,
   "metadata": {},
   "outputs": [],
   "source": [
    "df = pd.read_csv('./CSVs/TSLA_03182020')"
   ]
  },
  {
   "cell_type": "code",
   "execution_count": 14,
   "metadata": {
    "scrolled": true
   },
   "outputs": [
    {
     "data": {
      "text/html": [
       "<div>\n",
       "<style scoped>\n",
       "    .dataframe tbody tr th:only-of-type {\n",
       "        vertical-align: middle;\n",
       "    }\n",
       "\n",
       "    .dataframe tbody tr th {\n",
       "        vertical-align: top;\n",
       "    }\n",
       "\n",
       "    .dataframe thead th {\n",
       "        text-align: right;\n",
       "    }\n",
       "</style>\n",
       "<table border=\"1\" class=\"dataframe\">\n",
       "  <thead>\n",
       "    <tr style=\"text-align: right;\">\n",
       "      <th></th>\n",
       "      <th>1. open</th>\n",
       "      <th>2. high</th>\n",
       "      <th>3. low</th>\n",
       "      <th>4. close</th>\n",
       "      <th>5. volume</th>\n",
       "      <th>date</th>\n",
       "    </tr>\n",
       "  </thead>\n",
       "  <tbody>\n",
       "    <tr>\n",
       "      <th>0</th>\n",
       "      <td>389.0000</td>\n",
       "      <td>404.8600</td>\n",
       "      <td>378.24</td>\n",
       "      <td>387.32</td>\n",
       "      <td>10014454</td>\n",
       "      <td>2020-03-18</td>\n",
       "    </tr>\n",
       "    <tr>\n",
       "      <th>1</th>\n",
       "      <td>440.0100</td>\n",
       "      <td>471.8500</td>\n",
       "      <td>396.00</td>\n",
       "      <td>430.20</td>\n",
       "      <td>23822559</td>\n",
       "      <td>2020-03-17</td>\n",
       "    </tr>\n",
       "    <tr>\n",
       "      <th>2</th>\n",
       "      <td>469.4997</td>\n",
       "      <td>494.8699</td>\n",
       "      <td>442.17</td>\n",
       "      <td>445.07</td>\n",
       "      <td>20489464</td>\n",
       "      <td>2020-03-16</td>\n",
       "    </tr>\n",
       "    <tr>\n",
       "      <th>3</th>\n",
       "      <td>595.0000</td>\n",
       "      <td>607.5700</td>\n",
       "      <td>502.00</td>\n",
       "      <td>546.62</td>\n",
       "      <td>22640254</td>\n",
       "      <td>2020-03-13</td>\n",
       "    </tr>\n",
       "    <tr>\n",
       "      <th>4</th>\n",
       "      <td>580.8900</td>\n",
       "      <td>594.5000</td>\n",
       "      <td>546.25</td>\n",
       "      <td>560.55</td>\n",
       "      <td>18909052</td>\n",
       "      <td>2020-03-12</td>\n",
       "    </tr>\n",
       "  </tbody>\n",
       "</table>\n",
       "</div>"
      ],
      "text/plain": [
       "    1. open   2. high  3. low  4. close  5. volume        date\n",
       "0  389.0000  404.8600  378.24    387.32   10014454  2020-03-18\n",
       "1  440.0100  471.8500  396.00    430.20   23822559  2020-03-17\n",
       "2  469.4997  494.8699  442.17    445.07   20489464  2020-03-16\n",
       "3  595.0000  607.5700  502.00    546.62   22640254  2020-03-13\n",
       "4  580.8900  594.5000  546.25    560.55   18909052  2020-03-12"
      ]
     },
     "execution_count": 14,
     "metadata": {},
     "output_type": "execute_result"
    }
   ],
   "source": [
    "df.head()"
   ]
  },
  {
   "cell_type": "code",
   "execution_count": 15,
   "metadata": {},
   "outputs": [
    {
     "data": {
      "text/plain": [
       "(100, 6)"
      ]
     },
     "execution_count": 15,
     "metadata": {},
     "output_type": "execute_result"
    }
   ],
   "source": [
    "df.shape"
   ]
  },
  {
   "cell_type": "code",
   "execution_count": 16,
   "metadata": {},
   "outputs": [
    {
     "data": {
      "image/png": "[encoded data removed]",
      "text/plain": [
       "<Figure size 432x288 with 1 Axes>"
      ]
     },
     "metadata": {
      "needs_background": "light"
     },
     "output_type": "display_data"
    }
   ],
   "source": [
    "# Benford's Law example\n",
    "digits = list(range(1,10))\n",
    "benford = [np.log10(1 + 1/d) for d in digits]\n",
    "plt.bar(digits, benford)\n",
    "plt.xticks(digits);"
   ]
  },
  {
   "cell_type": "markdown",
   "metadata": {},
   "source": [
    "# Trading Volume"
   ]
  },
  {
   "cell_type": "code",
   "execution_count": 17,
   "metadata": {},
   "outputs": [
    {
     "data": {
      "text/html": [
       "<div>\n",
       "<style scoped>\n",
       "    .dataframe tbody tr th:only-of-type {\n",
       "        vertical-align: middle;\n",
       "    }\n",
       "\n",
       "    .dataframe tbody tr th {\n",
       "        vertical-align: top;\n",
       "    }\n",
       "\n",
       "    .dataframe thead th {\n",
       "        text-align: right;\n",
       "    }\n",
       "</style>\n",
       "<table border=\"1\" class=\"dataframe\">\n",
       "  <thead>\n",
       "    <tr style=\"text-align: right;\">\n",
       "      <th></th>\n",
       "      <th>1. open</th>\n",
       "      <th>2. high</th>\n",
       "      <th>3. low</th>\n",
       "      <th>4. close</th>\n",
       "      <th>5. volume</th>\n",
       "      <th>date</th>\n",
       "      <th>first_digit_volume</th>\n",
       "    </tr>\n",
       "  </thead>\n",
       "  <tbody>\n",
       "    <tr>\n",
       "      <th>0</th>\n",
       "      <td>389.0000</td>\n",
       "      <td>404.8600</td>\n",
       "      <td>378.24</td>\n",
       "      <td>387.32</td>\n",
       "      <td>10014454</td>\n",
       "      <td>2020-03-18</td>\n",
       "      <td>1</td>\n",
       "    </tr>\n",
       "    <tr>\n",
       "      <th>1</th>\n",
       "      <td>440.0100</td>\n",
       "      <td>471.8500</td>\n",
       "      <td>396.00</td>\n",
       "      <td>430.20</td>\n",
       "      <td>23822559</td>\n",
       "      <td>2020-03-17</td>\n",
       "      <td>2</td>\n",
       "    </tr>\n",
       "    <tr>\n",
       "      <th>2</th>\n",
       "      <td>469.4997</td>\n",
       "      <td>494.8699</td>\n",
       "      <td>442.17</td>\n",
       "      <td>445.07</td>\n",
       "      <td>20489464</td>\n",
       "      <td>2020-03-16</td>\n",
       "      <td>2</td>\n",
       "    </tr>\n",
       "    <tr>\n",
       "      <th>3</th>\n",
       "      <td>595.0000</td>\n",
       "      <td>607.5700</td>\n",
       "      <td>502.00</td>\n",
       "      <td>546.62</td>\n",
       "      <td>22640254</td>\n",
       "      <td>2020-03-13</td>\n",
       "      <td>2</td>\n",
       "    </tr>\n",
       "    <tr>\n",
       "      <th>4</th>\n",
       "      <td>580.8900</td>\n",
       "      <td>594.5000</td>\n",
       "      <td>546.25</td>\n",
       "      <td>560.55</td>\n",
       "      <td>18909052</td>\n",
       "      <td>2020-03-12</td>\n",
       "      <td>1</td>\n",
       "    </tr>\n",
       "  </tbody>\n",
       "</table>\n",
       "</div>"
      ],
      "text/plain": [
       "    1. open   2. high  3. low  4. close  5. volume        date  \\\n",
       "0  389.0000  404.8600  378.24    387.32   10014454  2020-03-18   \n",
       "1  440.0100  471.8500  396.00    430.20   23822559  2020-03-17   \n",
       "2  469.4997  494.8699  442.17    445.07   20489464  2020-03-16   \n",
       "3  595.0000  607.5700  502.00    546.62   22640254  2020-03-13   \n",
       "4  580.8900  594.5000  546.25    560.55   18909052  2020-03-12   \n",
       "\n",
       "   first_digit_volume  \n",
       "0                   1  \n",
       "1                   2  \n",
       "2                   2  \n",
       "3                   2  \n",
       "4                   1  "
      ]
     },
     "execution_count": 17,
     "metadata": {},
     "output_type": "execute_result"
    }
   ],
   "source": [
    "df['first_digit_volume'] = df['5. volume'].map(lambda a: str(a)[0]).astype(int)\n",
    "df.head()"
   ]
  },
  {
   "cell_type": "code",
   "execution_count": 18,
   "metadata": {},
   "outputs": [
    {
     "data": {
      "text/plain": [
       "1    0.44\n",
       "2    0.17\n",
       "3    0.05\n",
       "4    0.04\n",
       "5    0.03\n",
       "6    0.11\n",
       "7    0.06\n",
       "8    0.05\n",
       "9    0.05\n",
       "Name: first_digit_volume, dtype: float64"
      ]
     },
     "execution_count": 18,
     "metadata": {},
     "output_type": "execute_result"
    }
   ],
   "source": [
    "# Checking the value counts\n",
    "actual_vol = df['first_digit_volume'].value_counts(normalize = True).sort_index()\n",
    "actual_vol"
   ]
  },
  {
   "cell_type": "code",
   "execution_count": 19,
   "metadata": {},
   "outputs": [
    {
     "data": {
      "image/png": "[encoded data removed]",
      "text/plain": [
       "<Figure size 432x288 with 1 Axes>"
      ]
     },
     "metadata": {
      "needs_background": "light"
     },
     "output_type": "display_data"
    }
   ],
   "source": [
    "# trading volume by day\n",
    "plt.bar(digits, benford, label='Exptected')\n",
    "plt.plot(actual_vol, color='r', label='Actual')\n",
    "plt.xticks(digits)\n",
    "plt.legend();"
   ]
  },
  {
   "cell_type": "markdown",
   "metadata": {},
   "source": [
    "# Open and close difference"
   ]
  },
  {
   "cell_type": "code",
   "execution_count": 20,
   "metadata": {},
   "outputs": [
    {
     "data": {
      "text/html": [
       "<div>\n",
       "<style scoped>\n",
       "    .dataframe tbody tr th:only-of-type {\n",
       "        vertical-align: middle;\n",
       "    }\n",
       "\n",
       "    .dataframe tbody tr th {\n",
       "        vertical-align: top;\n",
       "    }\n",
       "\n",
       "    .dataframe thead th {\n",
       "        text-align: right;\n",
       "    }\n",
       "</style>\n",
       "<table border=\"1\" class=\"dataframe\">\n",
       "  <thead>\n",
       "    <tr style=\"text-align: right;\">\n",
       "      <th></th>\n",
       "      <th>1. open</th>\n",
       "      <th>2. high</th>\n",
       "      <th>3. low</th>\n",
       "      <th>4. close</th>\n",
       "      <th>5. volume</th>\n",
       "      <th>date</th>\n",
       "      <th>first_digit_volume</th>\n",
       "      <th>diff</th>\n",
       "    </tr>\n",
       "  </thead>\n",
       "  <tbody>\n",
       "    <tr>\n",
       "      <th>0</th>\n",
       "      <td>389.0000</td>\n",
       "      <td>404.8600</td>\n",
       "      <td>378.24</td>\n",
       "      <td>387.32</td>\n",
       "      <td>10014454</td>\n",
       "      <td>2020-03-18</td>\n",
       "      <td>1</td>\n",
       "      <td>1.6800</td>\n",
       "    </tr>\n",
       "    <tr>\n",
       "      <th>1</th>\n",
       "      <td>440.0100</td>\n",
       "      <td>471.8500</td>\n",
       "      <td>396.00</td>\n",
       "      <td>430.20</td>\n",
       "      <td>23822559</td>\n",
       "      <td>2020-03-17</td>\n",
       "      <td>2</td>\n",
       "      <td>9.8100</td>\n",
       "    </tr>\n",
       "    <tr>\n",
       "      <th>2</th>\n",
       "      <td>469.4997</td>\n",
       "      <td>494.8699</td>\n",
       "      <td>442.17</td>\n",
       "      <td>445.07</td>\n",
       "      <td>20489464</td>\n",
       "      <td>2020-03-16</td>\n",
       "      <td>2</td>\n",
       "      <td>24.4297</td>\n",
       "    </tr>\n",
       "    <tr>\n",
       "      <th>3</th>\n",
       "      <td>595.0000</td>\n",
       "      <td>607.5700</td>\n",
       "      <td>502.00</td>\n",
       "      <td>546.62</td>\n",
       "      <td>22640254</td>\n",
       "      <td>2020-03-13</td>\n",
       "      <td>2</td>\n",
       "      <td>48.3800</td>\n",
       "    </tr>\n",
       "    <tr>\n",
       "      <th>4</th>\n",
       "      <td>580.8900</td>\n",
       "      <td>594.5000</td>\n",
       "      <td>546.25</td>\n",
       "      <td>560.55</td>\n",
       "      <td>18909052</td>\n",
       "      <td>2020-03-12</td>\n",
       "      <td>1</td>\n",
       "      <td>20.3400</td>\n",
       "    </tr>\n",
       "  </tbody>\n",
       "</table>\n",
       "</div>"
      ],
      "text/plain": [
       "    1. open   2. high  3. low  4. close  5. volume        date  \\\n",
       "0  389.0000  404.8600  378.24    387.32   10014454  2020-03-18   \n",
       "1  440.0100  471.8500  396.00    430.20   23822559  2020-03-17   \n",
       "2  469.4997  494.8699  442.17    445.07   20489464  2020-03-16   \n",
       "3  595.0000  607.5700  502.00    546.62   22640254  2020-03-13   \n",
       "4  580.8900  594.5000  546.25    560.55   18909052  2020-03-12   \n",
       "\n",
       "   first_digit_volume     diff  \n",
       "0                   1   1.6800  \n",
       "1                   2   9.8100  \n",
       "2                   2  24.4297  \n",
       "3                   2  48.3800  \n",
       "4                   1  20.3400  "
      ]
     },
     "execution_count": 20,
     "metadata": {},
     "output_type": "execute_result"
    }
   ],
   "source": [
    "df['diff'] = np.abs(df['4. close'] - df['1. open'])\n",
    "df.head()"
   ]
  },
  {
   "cell_type": "code",
   "execution_count": 21,
   "metadata": {},
   "outputs": [
    {
     "data": {
      "text/html": [
       "<div>\n",
       "<style scoped>\n",
       "    .dataframe tbody tr th:only-of-type {\n",
       "        vertical-align: middle;\n",
       "    }\n",
       "\n",
       "    .dataframe tbody tr th {\n",
       "        vertical-align: top;\n",
       "    }\n",
       "\n",
       "    .dataframe thead th {\n",
       "        text-align: right;\n",
       "    }\n",
       "</style>\n",
       "<table border=\"1\" class=\"dataframe\">\n",
       "  <thead>\n",
       "    <tr style=\"text-align: right;\">\n",
       "      <th></th>\n",
       "      <th>1. open</th>\n",
       "      <th>2. high</th>\n",
       "      <th>3. low</th>\n",
       "      <th>4. close</th>\n",
       "      <th>5. volume</th>\n",
       "      <th>date</th>\n",
       "      <th>first_digit_volume</th>\n",
       "      <th>diff</th>\n",
       "      <th>first_digit_diff</th>\n",
       "    </tr>\n",
       "  </thead>\n",
       "  <tbody>\n",
       "    <tr>\n",
       "      <th>0</th>\n",
       "      <td>389.0000</td>\n",
       "      <td>404.8600</td>\n",
       "      <td>378.24</td>\n",
       "      <td>387.32</td>\n",
       "      <td>10014454</td>\n",
       "      <td>2020-03-18</td>\n",
       "      <td>1</td>\n",
       "      <td>1.6800</td>\n",
       "      <td>1</td>\n",
       "    </tr>\n",
       "    <tr>\n",
       "      <th>1</th>\n",
       "      <td>440.0100</td>\n",
       "      <td>471.8500</td>\n",
       "      <td>396.00</td>\n",
       "      <td>430.20</td>\n",
       "      <td>23822559</td>\n",
       "      <td>2020-03-17</td>\n",
       "      <td>2</td>\n",
       "      <td>9.8100</td>\n",
       "      <td>9</td>\n",
       "    </tr>\n",
       "    <tr>\n",
       "      <th>2</th>\n",
       "      <td>469.4997</td>\n",
       "      <td>494.8699</td>\n",
       "      <td>442.17</td>\n",
       "      <td>445.07</td>\n",
       "      <td>20489464</td>\n",
       "      <td>2020-03-16</td>\n",
       "      <td>2</td>\n",
       "      <td>24.4297</td>\n",
       "      <td>2</td>\n",
       "    </tr>\n",
       "    <tr>\n",
       "      <th>3</th>\n",
       "      <td>595.0000</td>\n",
       "      <td>607.5700</td>\n",
       "      <td>502.00</td>\n",
       "      <td>546.62</td>\n",
       "      <td>22640254</td>\n",
       "      <td>2020-03-13</td>\n",
       "      <td>2</td>\n",
       "      <td>48.3800</td>\n",
       "      <td>4</td>\n",
       "    </tr>\n",
       "    <tr>\n",
       "      <th>4</th>\n",
       "      <td>580.8900</td>\n",
       "      <td>594.5000</td>\n",
       "      <td>546.25</td>\n",
       "      <td>560.55</td>\n",
       "      <td>18909052</td>\n",
       "      <td>2020-03-12</td>\n",
       "      <td>1</td>\n",
       "      <td>20.3400</td>\n",
       "      <td>2</td>\n",
       "    </tr>\n",
       "  </tbody>\n",
       "</table>\n",
       "</div>"
      ],
      "text/plain": [
       "    1. open   2. high  3. low  4. close  5. volume        date  \\\n",
       "0  389.0000  404.8600  378.24    387.32   10014454  2020-03-18   \n",
       "1  440.0100  471.8500  396.00    430.20   23822559  2020-03-17   \n",
       "2  469.4997  494.8699  442.17    445.07   20489464  2020-03-16   \n",
       "3  595.0000  607.5700  502.00    546.62   22640254  2020-03-13   \n",
       "4  580.8900  594.5000  546.25    560.55   18909052  2020-03-12   \n",
       "\n",
       "   first_digit_volume     diff  first_digit_diff  \n",
       "0                   1   1.6800                 1  \n",
       "1                   2   9.8100                 9  \n",
       "2                   2  24.4297                 2  \n",
       "3                   2  48.3800                 4  \n",
       "4                   1  20.3400                 2  "
      ]
     },
     "execution_count": 21,
     "metadata": {},
     "output_type": "execute_result"
    }
   ],
   "source": [
    "df['first_digit_diff'] = df['diff'].map(lambda a: str(a)[0]).astype(int)\n",
    "df.head()"
   ]
  },
  {
   "cell_type": "code",
   "execution_count": 22,
   "metadata": {},
   "outputs": [
    {
     "data": {
      "text/plain": [
       "1    0.28\n",
       "2    0.15\n",
       "3    0.12\n",
       "4    0.08\n",
       "5    0.10\n",
       "6    0.07\n",
       "7    0.07\n",
       "8    0.05\n",
       "9    0.01\n",
       "Name: first_digit_diff, dtype: float64"
      ]
     },
     "execution_count": 22,
     "metadata": {},
     "output_type": "execute_result"
    }
   ],
   "source": [
    "# Checking the value counts\n",
    "actuals_diff = df['first_digit_diff'].value_counts(normalize = True).sort_index()[1:]\n",
    "actuals_diff"
   ]
  },
  {
   "cell_type": "code",
   "execution_count": 23,
   "metadata": {},
   "outputs": [
    {
     "data": {
      "image/png": "[encoded data removed]",
      "text/plain": [
       "<Figure size 432x288 with 1 Axes>"
      ]
     },
     "metadata": {
      "needs_background": "light"
     },
     "output_type": "display_data"
    }
   ],
   "source": [
    "# trading volume by day\n",
    "plt.bar(digits, benford, label='Exptected')\n",
    "plt.plot(actuals_diff, color='r', label='Actual')\n",
    "plt.xticks(digits)\n",
    "plt.legend();"
   ]
  },
  {
   "cell_type": "code",
   "execution_count": null,
   "metadata": {},
   "outputs": [],
   "source": []
  }
 ],
 "metadata": {
  "kernelspec": {
   "display_name": "Python 3",
   "language": "python",
   "name": "python3"
  },
  "language_info": {
   "codemirror_mode": {
    "name": "ipython",
    "version": 3
   },
   "file_extension": ".py",
   "mimetype": "text/x-python",
   "name": "python",
   "nbconvert_exporter": "python",
   "pygments_lexer": "ipython3",
   "version": "3.7.4"
  }
 },
 "nbformat": 4,
 "nbformat_minor": 2
}
